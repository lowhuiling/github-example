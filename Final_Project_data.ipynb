{
 "cells": [
  {
   "cell_type": "markdown",
   "metadata": {},
   "source": [
    "### Introduction/ Business Problem\n",
    "The question I will be addressing is: \"In NY city, if someone is looking to open a restaurant, where would you recommend that they open it?\" As NY City is a hotspot for businesses, potential restaurant owners might be curious as to where is the best area to rent their new restaurant at. Using the Fourspace data with the trending venues function, we are able to find the locations around an area that are trending so that potential restaurant owners can consider these areas as their future restaurant space."
   ]
  },
  {
   "cell_type": "markdown",
   "metadata": {},
   "source": [
    "### Data\n",
    "I will be using data from Fourspace, using the base location of new york city and using the trending venues function to find the locations around new york city that are currently trending. With this, potential restaurant owners are able to gain insight in trending spots that they can open their restaurants in, so that they can get a boost in their sales at the opening."
   ]
  }
 ],
 "metadata": {
  "kernelspec": {
   "display_name": "Python 3",
   "language": "python",
   "name": "python3"
  },
  "language_info": {
   "codemirror_mode": {
    "name": "ipython",
    "version": 3
   },
   "file_extension": ".py",
   "mimetype": "text/x-python",
   "name": "python",
   "nbconvert_exporter": "python",
   "pygments_lexer": "ipython3",
   "version": "3.7.6"
  }
 },
 "nbformat": 4,
 "nbformat_minor": 2
}
